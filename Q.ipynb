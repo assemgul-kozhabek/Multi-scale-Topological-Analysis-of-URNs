{
  "cells": [
    {
      "cell_type": "code",
      "execution_count": null,
      "metadata": {
        "colab": {
          "background_save": true
        },
        "id": "a4IHjf3m_Ojt",
        "outputId": "dc2fa7f1-b54c-4418-f909-d726c2b28d83"
      },
      "outputs": [
        {
          "name": "stdout",
          "output_type": "stream",
          "text": [
            "Modularity of the graph: 0.9821516086182865\n"
          ]
        }
      ],
      "source": [
        "import csv\n",
        "import networkx as nx\n",
        "import matplotlib.pyplot as plt\n",
        "import numpy as np\n",
        "import pandas as pd\n",
        "\n",
        "# Read edge list from .csv file\n",
        "edge_list_file = 'Bogota.csv'\n",
        "G = nx.Graph()\n",
        "\n",
        "with open(edge_list_file, 'r') as f:\n",
        "    reader = csv.reader(f)\n",
        "    next(reader)  # Skip header row if present\n",
        "    for row in reader:\n",
        "        source = row[0]\n",
        "        target = row[1]\n",
        "        G.add_edge(source, target)\n",
        "communities = nx.community.greedy_modularity_communities(G)\n",
        "modularity = nx.community.modularity(G, communities)\n",
        "print(\"Modularity of the graph:\", modularity)"
      ]
    }
  ],
  "metadata": {
    "colab": {
      "provenance": []
    },
    "kernelspec": {
      "display_name": "Python 3",
      "name": "python3"
    },
    "language_info": {
      "name": "python"
    }
  },
  "nbformat": 4,
  "nbformat_minor": 0
}