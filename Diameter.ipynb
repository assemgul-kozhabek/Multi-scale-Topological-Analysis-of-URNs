{
  "nbformat": 4,
  "nbformat_minor": 0,
  "metadata": {
    "colab": {
      "provenance": []
    },
    "kernelspec": {
      "name": "python3",
      "display_name": "Python 3"
    },
    "language_info": {
      "name": "python"
    }
  },
  "cells": [
    {
      "cell_type": "code",
      "execution_count": 1,
      "metadata": {
        "colab": {
          "base_uri": "https://localhost:8080/"
        },
        "id": "-jM4c-2PVR5x",
        "outputId": "e2300664-f888-49cc-fcd6-3133213a3f84"
      },
      "outputs": [
        {
          "output_type": "stream",
          "name": "stdout",
          "text": [
            "The diameter of G is: 73\n"
          ]
        }
      ],
      "source": [
        "import networkx as nx\n",
        "import csv\n",
        "\n",
        "edge_list_file = 'Surat.csv'\n",
        "G = nx.Graph()\n",
        "\n",
        "# Read the edge list from the CSV file\n",
        "with open(edge_list_file, 'r') as f:\n",
        "    reader = csv.reader(f)\n",
        "    next(reader)  # Skip header row if present\n",
        "    for row in reader:\n",
        "        source = row[0]\n",
        "        target = row[1]\n",
        "        G.add_edge(source, target)\n",
        "\n",
        "# Get the connected components in the graph G\n",
        "connected_components = nx.connected_components(G)\n",
        "\n",
        "# Calculate the diameter of each connected component\n",
        "component_diameters = []\n",
        "for component in connected_components:\n",
        "    subgraph = G.subgraph(component)\n",
        "    diameter = nx.diameter(subgraph)\n",
        "    component_diameters.append(diameter)\n",
        "\n",
        "# Calculate the maximum diameter among all connected components\n",
        "max_diameter = max(component_diameters)\n",
        "\n",
        "print(\"The diameter of G is:\", max_diameter)"
      ]
    }
  ]
}