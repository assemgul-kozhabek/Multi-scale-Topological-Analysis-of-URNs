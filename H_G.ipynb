{
  "cells": [
    {
      "cell_type": "code",
      "execution_count": 1,
      "metadata": {
        "colab": {
          "base_uri": "https://localhost:8080/"
        },
        "id": "avayQgCGig0T",
        "outputId": "4654fb9d-1fbc-4a2e-cbb7-5e62724dc4ea"
      },
      "outputs": [
        {
          "output_type": "stream",
          "name": "stdout",
          "text": [
            "Average path length: 28.889482787474453\n"
          ]
        }
      ],
      "source": [
        "import networkx as nx\n",
        "import numpy as np\n",
        "import csv\n",
        "\n",
        "# Read edge list from .csv file\n",
        "edge_list_file = 'Surat.csv'\n",
        "G = nx.Graph()\n",
        "with open(edge_list_file, 'r') as f:\n",
        "    reader = csv.reader(f)\n",
        "    next(reader)  # Skip header row if present\n",
        "    for row in reader:\n",
        "        source = row[0]\n",
        "        target = row[1]\n",
        "        G.add_edge(source, target)\n",
        "\n",
        "# Calculate average path length\n",
        "path_lengths = []\n",
        "for node in G.nodes():\n",
        "    lengths = nx.single_source_shortest_path_length(G, node)\n",
        "    for len_ in lengths.values():\n",
        "        path_lengths.append(len_)\n",
        "\n",
        "avg_path_length = np.mean(path_lengths)\n",
        "print(\"Average path length:\", avg_path_length)"
      ]
    }
  ],
  "metadata": {
    "colab": {
      "machine_shape": "hm",
      "provenance": []
    },
    "kernelspec": {
      "display_name": "Python 3",
      "name": "python3"
    },
    "language_info": {
      "name": "python"
    }
  },
  "nbformat": 4,
  "nbformat_minor": 0
}