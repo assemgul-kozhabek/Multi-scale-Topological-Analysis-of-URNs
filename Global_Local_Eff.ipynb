{
  "nbformat": 4,
  "nbformat_minor": 0,
  "metadata": {
    "colab": {
      "provenance": []
    },
    "kernelspec": {
      "name": "python3",
      "display_name": "Python 3"
    },
    "language_info": {
      "name": "python"
    }
  },
  "cells": [
    {
      "cell_type": "code",
      "execution_count": 1,
      "metadata": {
        "id": "rJcZLFo7EI_9",
        "colab": {
          "base_uri": "https://localhost:8080/"
        },
        "outputId": "27a63240-c5e9-496d-ea02-949c316e2724"
      },
      "outputs": [
        {
          "output_type": "stream",
          "name": "stdout",
          "text": [
            "The global average efficiency of the network is: 0.04426806214012294\n",
            "The local average efficiency of the network is: 0.04890218276941531\n"
          ]
        }
      ],
      "source": [
        "import networkx as nx\n",
        "import csv\n",
        "\n",
        "# Read edge list from .csv file\n",
        "edge_list_file = 'Surat.csv'\n",
        "G = nx.Graph()\n",
        "\n",
        "with open(edge_list_file, 'r') as f:\n",
        "    reader = csv.reader(f)\n",
        "    next(reader)  # Skip header row if present\n",
        "    for row in reader:\n",
        "        source = row[0]\n",
        "        target = row[1]\n",
        "        G.add_edge(source, target)\n",
        "\n",
        "# Calculate global average efficiency\n",
        "global_eff = nx.global_efficiency(G)\n",
        "\n",
        "# Calculate local average efficiency\n",
        "local_eff = nx.local_efficiency(G)\n",
        "\n",
        "print(f\"The global average efficiency of the network is: {global_eff}\")\n",
        "\n",
        "print(f\"The local average efficiency of the network is: {local_eff}\")"
      ]
    }
  ]
}