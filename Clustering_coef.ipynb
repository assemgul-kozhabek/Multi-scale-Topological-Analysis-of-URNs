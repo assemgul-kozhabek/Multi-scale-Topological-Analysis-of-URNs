{
  "nbformat": 4,
  "nbformat_minor": 0,
  "metadata": {
    "colab": {
      "provenance": [],
      "toc_visible": true
    },
    "kernelspec": {
      "name": "python3",
      "display_name": "Python 3"
    },
    "language_info": {
      "name": "python"
    }
  },
  "cells": [
    {
      "cell_type": "code",
      "execution_count": null,
      "metadata": {
        "colab": {
          "base_uri": "https://localhost:8080/"
        },
        "id": "1TNIoCt6jZY_",
        "outputId": "522236a0-1e64-408f-f764-fe5d7da32f19"
      },
      "outputs": [
        {
          "output_type": "stream",
          "name": "stdout",
          "text": [
            "Clustering Coefficient: 0.02858542747812364\n"
          ]
        }
      ],
      "source": [
        "import pandas as pd\n",
        "import networkx as nx\n",
        "\n",
        "# Read the edge list from .csv file\n",
        "edge_list = pd.read_csv('Delhi.csv')\n",
        "\n",
        "# Create an empty graph\n",
        "G = nx.Graph()\n",
        "\n",
        "# Add nodes and edges to the graph from the edge list\n",
        "for _, edge in edge_list.iterrows():\n",
        "    G.add_edge(edge[0], edge[1])\n",
        "\n",
        "# Calculate clustering coefficient\n",
        "clustering_coefficient = nx.average_clustering(G)\n",
        "\n",
        "print(\"Clustering Coefficient:\", clustering_coefficient)"
      ]
    }
  ]
}