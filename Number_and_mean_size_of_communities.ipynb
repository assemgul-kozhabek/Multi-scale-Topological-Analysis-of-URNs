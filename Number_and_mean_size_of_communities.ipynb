{
  "cells": [
    {
      "cell_type": "code",
      "source": [
        "import csv\n",
        "import networkx as nx\n",
        "import community.community_louvain as community  # Correct import\n",
        "import pandas as pd\n",
        "import numpy as np  # For mean calculation\n",
        "\n",
        "# Read edge list from .csv file\n",
        "edge_list_file = 'Surat.csv'\n",
        "G = nx.Graph()\n",
        "\n",
        "# Read CSV and construct graph\n",
        "with open(edge_list_file, 'r') as f:\n",
        "    reader = csv.reader(f)\n",
        "    next(reader)  # Skip header row if present\n",
        "    for row in reader:\n",
        "        source = row[0]\n",
        "        target = row[1]\n",
        "        G.add_edge(source, target)\n",
        "\n",
        "# Compute communities using the Louvain method\n",
        "partition = community.best_partition(G)  # Dictionary of node: community_id\n",
        "\n",
        "# Count the number of unique communities\n",
        "num_communities = len(set(partition.values()))\n",
        "\n",
        "# Compute the size of each community\n",
        "community_sizes = {}\n",
        "for node, comm_id in partition.items():\n",
        "    if comm_id not in community_sizes:\n",
        "        community_sizes[comm_id] = 0\n",
        "    community_sizes[comm_id] += 1\n",
        "\n",
        "# Calculate mean community size\n",
        "mean_community_size = np.mean(list(community_sizes.values()))\n",
        "\n",
        "print(\"Number of communities in G:\", num_communities)\n",
        "print(\"Mean community size:\", mean_community_size)\n"
      ],
      "metadata": {
        "colab": {
          "base_uri": "https://localhost:8080/"
        },
        "id": "xlVBjynd0QBr",
        "outputId": "8f4ad717-3e27-4220-bc71-4945f1dafda8"
      },
      "execution_count": 16,
      "outputs": [
        {
          "output_type": "stream",
          "name": "stdout",
          "text": [
            "Number of communities in G: 44\n",
            "Mean community size: 58.88636363636363\n"
          ]
        }
      ]
    }
  ],
  "metadata": {
    "colab": {
      "provenance": [],
      "machine_shape": "hm"
    },
    "kernelspec": {
      "display_name": "Python 3",
      "name": "python3"
    },
    "language_info": {
      "name": "python"
    }
  },
  "nbformat": 4,
  "nbformat_minor": 0
}