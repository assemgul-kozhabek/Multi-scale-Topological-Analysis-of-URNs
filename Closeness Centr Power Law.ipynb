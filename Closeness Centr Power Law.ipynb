{
 "cells": [
  {
   "cell_type": "code",
   "execution_count": 3,
   "metadata": {},
   "outputs": [],
   "source": [
    "import csv\n",
    "import networkx as nx\n",
    "import matplotlib.pyplot as plt\n",
    "import numpy as np\n",
    "from scipy.optimize import curve_fit\n",
    "\n",
    "# Read edge list from .csv file\n",
    "edge_list_file = 'Surat.csv'\n",
    "G = nx.Graph()\n",
    "\n",
    "# Read the edge list and create the graph\n",
    "with open(edge_list_file, 'r') as f:\n",
    "    reader = csv.reader(f)\n",
    "    next(reader)  # Skip header row if present\n",
    "    for row in reader:\n",
    "        source = row[0]\n",
    "        target = row[1]\n",
    "        G.add_edge(source, target)"
   ]
  },
  {
   "cell_type": "code",
   "execution_count": 4,
   "metadata": {},
   "outputs": [],
   "source": [
    "# Calculate the closeness centrality distribution\n",
    "closeness_centralities = nx.closeness_centrality(G)\n",
    "closeness_distribution = list(closeness_centralities.values())\n",
    "\n",
    "# Remove nodes with closeness centrality equal to 0 or close to 0\n",
    "to_remove = []\n",
    "for node, closeness_centrality in closeness_centralities.items():\n",
    "    if closeness_centrality <= 0.011:  # Threshold for close to 0 values\n",
    "        to_remove.append(node)\n",
    "\n",
    "G.remove_nodes_from(to_remove)\n",
    "\n",
    "# Calculate the closeness centrality distribution after removal\n",
    "closeness_centralities = nx.closeness_centrality(G)\n",
    "closeness_distribution = list(closeness_centralities.values())\n",
    "\n",
    "\n",
    "def x_to_100(x, pos):\n",
    "    return '{:.1f}'.format(x)"
   ]
  },
  {
   "cell_type": "code",
   "execution_count": 5,
   "metadata": {},
   "outputs": [
    {
     "ename": "NameError",
     "evalue": "name 'FuncFormatter' is not defined",
     "output_type": "error",
     "traceback": [
      "\u001b[1;31m---------------------------------------------------------------------------\u001b[0m",
      "\u001b[1;31mNameError\u001b[0m                                 Traceback (most recent call last)",
      "\u001b[1;32m<ipython-input-5-24778351d92f>\u001b[0m in \u001b[0;36m<module>\u001b[1;34m\u001b[0m\n\u001b[0;32m      9\u001b[0m \u001b[1;33m\u001b[0m\u001b[0m\n\u001b[0;32m     10\u001b[0m \u001b[1;31m# Customize x-tick labels to display only three decimal places and divide by 100\u001b[0m\u001b[1;33m\u001b[0m\u001b[1;33m\u001b[0m\u001b[1;33m\u001b[0m\u001b[0m\n\u001b[1;32m---> 11\u001b[1;33m \u001b[0mformatter\u001b[0m \u001b[1;33m=\u001b[0m \u001b[0mFuncFormatter\u001b[0m\u001b[1;33m(\u001b[0m\u001b[0mx_to_100\u001b[0m\u001b[1;33m)\u001b[0m\u001b[1;33m\u001b[0m\u001b[1;33m\u001b[0m\u001b[0m\n\u001b[0m\u001b[0;32m     12\u001b[0m \u001b[0mplt\u001b[0m\u001b[1;33m.\u001b[0m\u001b[0mgca\u001b[0m\u001b[1;33m(\u001b[0m\u001b[1;33m)\u001b[0m\u001b[1;33m.\u001b[0m\u001b[0mxaxis\u001b[0m\u001b[1;33m.\u001b[0m\u001b[0mset_major_formatter\u001b[0m\u001b[1;33m(\u001b[0m\u001b[0mformatter\u001b[0m\u001b[1;33m)\u001b[0m\u001b[1;33m\u001b[0m\u001b[1;33m\u001b[0m\u001b[0m\n\u001b[0;32m     13\u001b[0m \u001b[1;33m\u001b[0m\u001b[0m\n",
      "\u001b[1;31mNameError\u001b[0m: name 'FuncFormatter' is not defined"
     ]
    },
    {
     "data": {
      "image/png": "[encoded data removed]",
      "text/plain": [
       "<Figure size 460.8x324 with 1 Axes>"
      ]
     },
     "metadata": {
      "needs_background": "light"
     },
     "output_type": "display_data"
    }
   ],
   "source": [
    "# Plot the density plot\n",
    "plt.figure(figsize=(6.4, 4.5))\n",
    "plt.title('Surat', fontsize=24)\n",
    "plt.xlabel('$c_{C}$', fontsize=22)\n",
    "plt.ylabel('Frequency', fontsize=22)\n",
    "plt.xticks(fontsize=17)\n",
    "plt.yticks(fontsize=20)\n",
    "plt.hist([val * 100 for val in closeness_distribution], density=False, bins=50, color='grey')\n",
    "\n",
    "# Customize x-tick labels to display only three decimal places and divide by 100\n",
    "formatter = FuncFormatter(x_to_100)\n",
    "plt.gca().xaxis.set_major_formatter(formatter)\n",
    "\n",
    "plt.show()"
   ]
  },
  {
   "cell_type": "code",
   "execution_count": null,
   "metadata": {},
   "outputs": [],
   "source": []
  }
 ],
 "metadata": {
  "kernelspec": {
   "display_name": "Python 3",
   "language": "python",
   "name": "python3"
  },
  "language_info": {
   "codemirror_mode": {
    "name": "ipython",
    "version": 3
   },
   "file_extension": ".py",
   "mimetype": "text/x-python",
   "name": "python",
   "nbconvert_exporter": "python",
   "pygments_lexer": "ipython3",
   "version": "3.7.4"
  }
 },
 "nbformat": 4,
 "nbformat_minor": 2
}
